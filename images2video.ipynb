{
 "cells": [
  {
   "cell_type": "markdown",
   "metadata": {},
   "source": [
    "# Images concatenate to a video:\n",
    "\n",
    "This short Notebook puts the denoised images altogether to the denoised video."
   ]
  },
  {
   "cell_type": "code",
   "execution_count": 1,
   "metadata": {},
   "outputs": [],
   "source": [
    "import os\n",
    "import cv2\n",
    "import numpy as np\n",
    "import matplotlib.pyplot as plt                        \n",
    "%matplotlib inline   \n",
    "from glob import glob"
   ]
  },
  {
   "cell_type": "markdown",
   "metadata": {},
   "source": [
    "Default \"split_pieces\" is set to one. If the images have been splited for example in 4 pieces, set \"split_pieces to 4"
   ]
  },
  {
   "cell_type": "code",
   "execution_count": 2,
   "metadata": {},
   "outputs": [],
   "source": [
    "split_pieces = 1"
   ]
  },
  {
   "cell_type": "markdown",
   "metadata": {},
   "source": [
    "If the images were splitted the following code block will combine the pieces to images."
   ]
  },
  {
   "cell_type": "code",
   "execution_count": 3,
   "metadata": {},
   "outputs": [],
   "source": [
    "if split_pieces > 1:\n",
    "    \n",
    "    path_splt_folders = \".\\\\watermarked4\\\\splt\"\n",
    "    path_concat_images = \".\\\\concats\\\\\"\n",
    "    if not os.path.exists(path_concat_images):\n",
    "        os.makedirs(path_concat_images)\n",
    "\n",
    "    glob_list_splt=[]\n",
    "\n",
    "    for i in range(1,split_pieces+1):\n",
    "        glob_list_splt.append(glob(path_splt_folders+str(i)+\"\\\\*.png\"))\n",
    "\n",
    "    for i in range(split_pieces-1):\n",
    "        assert len(glob_list_splt[i]) == len(glob_list_splt[i+1])\n",
    "\n",
    "\n",
    "    for j in range(1,len(glob_list_splt[0])+1):\n",
    "\n",
    "        splt_list=[]\n",
    "        for i in range(1,split_pieces+1):\n",
    "            splt_list.append(cv2.imread(path_splt_folders+str(i)+\"\\\\blend\"+str(j)+\".png\"))\n",
    "            #print (path_splt_folders+str(i)+\"\\\\blend\"+str(j)+\".png\")\n",
    "            #print (splt_list)\n",
    "\n",
    "        vis = np.concatenate((splt_list),axis=1)\n",
    "        cv2.imwrite(path_concat_images+\"concatenate\"+str(j)+\".png\",vis)\n"
   ]
  },
  {
   "cell_type": "markdown",
   "metadata": {},
   "source": [
    "__Define the pathes:__\n",
    "\n",
    "Since the structure of folders is different whether the images were splitted or not."
   ]
  },
  {
   "cell_type": "code",
   "execution_count": 4,
   "metadata": {},
   "outputs": [],
   "source": [
    "if split_pieces > 1:\n",
    "    path_im = path_concat_images + \"*.png\"\n",
    "    video_path = path_concat_images\n",
    "    image_name = \"concatenate\" # + x.png\n",
    "else:\n",
    "    path_im = \".\\\\wm_snowboarder\\\\*.png\"\n",
    "    video_path = \".\\\\wm_snowboarder\\\\\"\n",
    "    image_name = \"blend\" # + x.png\n",
    "list_im = glob(path_im)\n"
   ]
  },
  {
   "cell_type": "markdown",
   "metadata": {},
   "source": [
    "__Sorting:__ \n",
    "\n",
    "For example the image with name \"...\\blend1.png\" gets the key \"1\" and so on. This asserts that the images will be put together to the video in the right order."
   ]
  },
  {
   "cell_type": "code",
   "execution_count": 5,
   "metadata": {},
   "outputs": [],
   "source": [
    "dic_sorted_list = {}\n",
    "\n",
    "for el in list_im:\n",
    "    dic_sorted_list[el[el.find(image_name)+len(image_name):el.find(\".png\")]]=el\n"
   ]
  },
  {
   "cell_type": "code",
   "execution_count": 6,
   "metadata": {},
   "outputs": [],
   "source": [
    "video = cv2.VideoWriter(video_path+'video.avi',cv2.VideoWriter_fourcc(*\"MJPG\"), 30,(848,480))\n",
    "\n",
    "for index in range(1,len(dic_sorted_list)+1):\n",
    "    video.write(cv2.imread(dic_sorted_list[str(index)]))\n",
    "\n",
    "\n",
    "cv2.destroyAllWindows()\n",
    "video.release()"
   ]
  }
 ],
 "metadata": {
  "kernelspec": {
   "display_name": "Python 3",
   "language": "python",
   "name": "python3"
  },
  "language_info": {
   "codemirror_mode": {
    "name": "ipython",
    "version": 3
   },
   "file_extension": ".py",
   "mimetype": "text/x-python",
   "name": "python",
   "nbconvert_exporter": "python",
   "pygments_lexer": "ipython3",
   "version": "3.7.4"
  }
 },
 "nbformat": 4,
 "nbformat_minor": 2
}
